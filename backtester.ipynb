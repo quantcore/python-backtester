{
 "cells": [
  {
   "cell_type": "code",
   "execution_count": 41,
   "metadata": {},
   "outputs": [],
   "source": [
    "import pandas as pd\n",
    "import numpy as np\n",
    "import matplotlib.pyplot as plt"
   ]
  },
  {
   "cell_type": "code",
   "execution_count": 42,
   "metadata": {},
   "outputs": [],
   "source": [
    "class Backtester():\n",
    "    def __init__(self, symbol, balance, comission, data):\n",
    "        self.symbol = symbol\n",
    "        self.initial_balance = balance\n",
    "        self.current_balance = balance\n",
    "        self.comission = comission / 100\n",
    "        self.data = data\n",
    "        self.units = 0.0\n",
    "        self.trades = 0\n",
    "\n",
    "    def get_bar(self, bar):\n",
    "        date = str(self.data.index[bar].date())\n",
    "        price = self.data[\"Close\"].iloc[bar]\n",
    "        return date, price\n",
    "\n",
    "    def is_valid_amount(self, bar, units):\n",
    "        date, price = self.get_bar(bar)\n",
    "        amount = price * units * (1 + self.comission)\n",
    "        if amount > self.current_balance:\n",
    "            print(\"No tienes suficiente dinero para comprar {} unidades de {} en la fecha {}\".format(units, self.symbol, date))\n",
    "            return False\n",
    "        return True\n",
    "\n",
    "    def buy_instrument(self, bar, units):\n",
    "        date, price = self.get_bar(bar)\n",
    "        if not self.is_valid_amount(bar, units):\n",
    "            return\n",
    "        self.units += units\n",
    "        cost = units * price\n",
    "        comission_cost = cost * self.comission\n",
    "        self.current_balance -= cost * (1 + self.comission)\n",
    "        self.trades += 1\n",
    "        print(\"Compraste {} unidades de {} en la fecha {} a un precio de $ {} USD por un total de $ {} USD con una comisión de $ {} USD; Total: {}\".format(units, self.symbol, date, price, cost, comission_cost, cost + comission_cost))\n",
    "    \n",
    "    def sell_units(self, bar, units = None):\n",
    "        date, price = self.get_bar(bar)\n",
    "        if units > self.units:\n",
    "            print(\"No tienes suficientes unidades para vender {} unidades de {} en la fecha {}\".format(units, self.symbol, date))\n",
    "            return\n",
    "        self.units -= units\n",
    "        self.current_balance += units * price * (1 - self.comission)\n",
    "        self.trades += 1\n",
    "        print(\"Vendiste {} unidades de {} en la fecha {} a un precio de $ {} USD\".format(units, self.symbol, date, price))\n"
   ]
  },
  {
   "cell_type": "code",
   "execution_count": 43,
   "metadata": {},
   "outputs": [],
   "source": [
    "data = pd.read_csv(\"resources/BTCUSD_1D.csv\", index_col=\"Date\", parse_dates=True)"
   ]
  },
  {
   "cell_type": "code",
   "execution_count": 44,
   "metadata": {},
   "outputs": [],
   "source": [
    "bc = Backtester(\"BTCUSD\", 10000, 0.1, data)"
   ]
  },
  {
   "cell_type": "code",
   "execution_count": 45,
   "metadata": {},
   "outputs": [
    {
     "data": {
      "text/html": [
       "<div>\n",
       "<style scoped>\n",
       "    .dataframe tbody tr th:only-of-type {\n",
       "        vertical-align: middle;\n",
       "    }\n",
       "\n",
       "    .dataframe tbody tr th {\n",
       "        vertical-align: top;\n",
       "    }\n",
       "\n",
       "    .dataframe thead th {\n",
       "        text-align: right;\n",
       "    }\n",
       "</style>\n",
       "<table border=\"1\" class=\"dataframe\">\n",
       "  <thead>\n",
       "    <tr style=\"text-align: right;\">\n",
       "      <th></th>\n",
       "      <th>Open</th>\n",
       "      <th>High</th>\n",
       "      <th>Low</th>\n",
       "      <th>Close</th>\n",
       "      <th>Adj Close</th>\n",
       "      <th>Volume</th>\n",
       "    </tr>\n",
       "    <tr>\n",
       "      <th>Date</th>\n",
       "      <th></th>\n",
       "      <th></th>\n",
       "      <th></th>\n",
       "      <th></th>\n",
       "      <th></th>\n",
       "      <th></th>\n",
       "    </tr>\n",
       "  </thead>\n",
       "  <tbody>\n",
       "    <tr>\n",
       "      <th>2017-09-20</th>\n",
       "      <td>3916.360107</td>\n",
       "      <td>4031.389893</td>\n",
       "      <td>3857.729980</td>\n",
       "      <td>3905.949951</td>\n",
       "      <td>3905.949951</td>\n",
       "      <td>1213830016</td>\n",
       "    </tr>\n",
       "    <tr>\n",
       "      <th>2017-09-21</th>\n",
       "      <td>3901.469971</td>\n",
       "      <td>3916.419922</td>\n",
       "      <td>3613.629883</td>\n",
       "      <td>3631.040039</td>\n",
       "      <td>3631.040039</td>\n",
       "      <td>1411480064</td>\n",
       "    </tr>\n",
       "    <tr>\n",
       "      <th>2017-09-22</th>\n",
       "      <td>3628.020020</td>\n",
       "      <td>3758.270020</td>\n",
       "      <td>3553.530029</td>\n",
       "      <td>3630.699951</td>\n",
       "      <td>3630.699951</td>\n",
       "      <td>1194829952</td>\n",
       "    </tr>\n",
       "    <tr>\n",
       "      <th>2017-09-23</th>\n",
       "      <td>3629.919922</td>\n",
       "      <td>3819.209961</td>\n",
       "      <td>3594.580078</td>\n",
       "      <td>3792.399902</td>\n",
       "      <td>3792.399902</td>\n",
       "      <td>928113984</td>\n",
       "    </tr>\n",
       "    <tr>\n",
       "      <th>2017-09-24</th>\n",
       "      <td>3796.149902</td>\n",
       "      <td>3796.149902</td>\n",
       "      <td>3666.899902</td>\n",
       "      <td>3682.840088</td>\n",
       "      <td>3682.840088</td>\n",
       "      <td>768014976</td>\n",
       "    </tr>\n",
       "    <tr>\n",
       "      <th>...</th>\n",
       "      <td>...</td>\n",
       "      <td>...</td>\n",
       "      <td>...</td>\n",
       "      <td>...</td>\n",
       "      <td>...</td>\n",
       "      <td>...</td>\n",
       "    </tr>\n",
       "    <tr>\n",
       "      <th>2022-09-17</th>\n",
       "      <td>19777.033203</td>\n",
       "      <td>20162.531250</td>\n",
       "      <td>19777.033203</td>\n",
       "      <td>20127.576172</td>\n",
       "      <td>20127.576172</td>\n",
       "      <td>24957448100</td>\n",
       "    </tr>\n",
       "    <tr>\n",
       "      <th>2022-09-18</th>\n",
       "      <td>20127.234375</td>\n",
       "      <td>20127.234375</td>\n",
       "      <td>19387.492188</td>\n",
       "      <td>19419.505859</td>\n",
       "      <td>19419.505859</td>\n",
       "      <td>31254779144</td>\n",
       "    </tr>\n",
       "    <tr>\n",
       "      <th>2022-09-19</th>\n",
       "      <td>19418.572266</td>\n",
       "      <td>19639.480469</td>\n",
       "      <td>18390.318359</td>\n",
       "      <td>19544.128906</td>\n",
       "      <td>19544.128906</td>\n",
       "      <td>40177002624</td>\n",
       "    </tr>\n",
       "    <tr>\n",
       "      <th>2022-09-20</th>\n",
       "      <td>19545.591797</td>\n",
       "      <td>19602.457031</td>\n",
       "      <td>18813.455078</td>\n",
       "      <td>18890.789063</td>\n",
       "      <td>18890.789063</td>\n",
       "      <td>36791346508</td>\n",
       "    </tr>\n",
       "    <tr>\n",
       "      <th>2022-09-21</th>\n",
       "      <td>18883.615234</td>\n",
       "      <td>19031.361328</td>\n",
       "      <td>18883.615234</td>\n",
       "      <td>19007.335938</td>\n",
       "      <td>19007.335938</td>\n",
       "      <td>35856887808</td>\n",
       "    </tr>\n",
       "  </tbody>\n",
       "</table>\n",
       "<p>1828 rows × 6 columns</p>\n",
       "</div>"
      ],
      "text/plain": [
       "                    Open          High           Low         Close  \\\n",
       "Date                                                                 \n",
       "2017-09-20   3916.360107   4031.389893   3857.729980   3905.949951   \n",
       "2017-09-21   3901.469971   3916.419922   3613.629883   3631.040039   \n",
       "2017-09-22   3628.020020   3758.270020   3553.530029   3630.699951   \n",
       "2017-09-23   3629.919922   3819.209961   3594.580078   3792.399902   \n",
       "2017-09-24   3796.149902   3796.149902   3666.899902   3682.840088   \n",
       "...                  ...           ...           ...           ...   \n",
       "2022-09-17  19777.033203  20162.531250  19777.033203  20127.576172   \n",
       "2022-09-18  20127.234375  20127.234375  19387.492188  19419.505859   \n",
       "2022-09-19  19418.572266  19639.480469  18390.318359  19544.128906   \n",
       "2022-09-20  19545.591797  19602.457031  18813.455078  18890.789063   \n",
       "2022-09-21  18883.615234  19031.361328  18883.615234  19007.335938   \n",
       "\n",
       "               Adj Close       Volume  \n",
       "Date                                   \n",
       "2017-09-20   3905.949951   1213830016  \n",
       "2017-09-21   3631.040039   1411480064  \n",
       "2017-09-22   3630.699951   1194829952  \n",
       "2017-09-23   3792.399902    928113984  \n",
       "2017-09-24   3682.840088    768014976  \n",
       "...                  ...          ...  \n",
       "2022-09-17  20127.576172  24957448100  \n",
       "2022-09-18  19419.505859  31254779144  \n",
       "2022-09-19  19544.128906  40177002624  \n",
       "2022-09-20  18890.789063  36791346508  \n",
       "2022-09-21  19007.335938  35856887808  \n",
       "\n",
       "[1828 rows x 6 columns]"
      ]
     },
     "execution_count": 45,
     "metadata": {},
     "output_type": "execute_result"
    }
   ],
   "source": [
    "bc.data"
   ]
  },
  {
   "cell_type": "code",
   "execution_count": 46,
   "metadata": {},
   "outputs": [
    {
     "data": {
      "text/plain": [
       "0.001"
      ]
     },
     "execution_count": 46,
     "metadata": {},
     "output_type": "execute_result"
    }
   ],
   "source": [
    "bc.comission"
   ]
  },
  {
   "cell_type": "code",
   "execution_count": 47,
   "metadata": {},
   "outputs": [
    {
     "data": {
      "text/plain": [
       "(10000, 10000)"
      ]
     },
     "execution_count": 47,
     "metadata": {},
     "output_type": "execute_result"
    }
   ],
   "source": [
    "bc.current_balance, bc.initial_balance"
   ]
  },
  {
   "cell_type": "code",
   "execution_count": 48,
   "metadata": {},
   "outputs": [
    {
     "name": "stdout",
     "output_type": "stream",
     "text": [
      "Compraste 1 unidades de BTCUSD en la fecha 2017-09-20 a un precio de $ 3905.949951 USD por un total de $ 3905.949951 USD con una comisión de $ 3.905949951 USD; Total: 3909.855900951\n"
     ]
    }
   ],
   "source": [
    "bc.buy_instrument(0, 1)"
   ]
  },
  {
   "cell_type": "code",
   "execution_count": 49,
   "metadata": {},
   "outputs": [
    {
     "name": "stdout",
     "output_type": "stream",
     "text": [
      "Vendiste 1 unidades de BTCUSD en la fecha 2017-09-20 a un precio de $ 3905.949951 USD\n"
     ]
    }
   ],
   "source": [
    "bc.sell_units(0, 1)"
   ]
  },
  {
   "cell_type": "code",
   "execution_count": 50,
   "metadata": {},
   "outputs": [
    {
     "data": {
      "text/plain": [
       "(9992.188100098001, 10000)"
      ]
     },
     "execution_count": 50,
     "metadata": {},
     "output_type": "execute_result"
    }
   ],
   "source": [
    "bc.current_balance, bc.initial_balance"
   ]
  },
  {
   "cell_type": "code",
   "execution_count": null,
   "metadata": {},
   "outputs": [],
   "source": []
  }
 ],
 "metadata": {
  "kernelspec": {
   "display_name": "Python 3.9.12 ('quantcore')",
   "language": "python",
   "name": "python3"
  },
  "language_info": {
   "codemirror_mode": {
    "name": "ipython",
    "version": 3
   },
   "file_extension": ".py",
   "mimetype": "text/x-python",
   "name": "python",
   "nbconvert_exporter": "python",
   "pygments_lexer": "ipython3",
   "version": "3.9.12"
  },
  "orig_nbformat": 4,
  "vscode": {
   "interpreter": {
    "hash": "ae244af85ef07dfb75cdc6a981b700601477cde84e060b8a1d06f4849fd10fda"
   }
  }
 },
 "nbformat": 4,
 "nbformat_minor": 2
}
